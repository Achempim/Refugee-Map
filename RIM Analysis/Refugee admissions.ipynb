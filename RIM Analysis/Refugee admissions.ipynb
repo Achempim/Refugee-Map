{
 "cells": [
  {
   "cell_type": "code",
   "execution_count": 1,
   "metadata": {},
   "outputs": [],
   "source": [
    "# Import necessary libraries\n",
    "import pandas as pd\n",
    "import folium"
   ]
  },
  {
   "cell_type": "code",
   "execution_count": 14,
   "metadata": {},
   "outputs": [],
   "source": [
    "# Step 1: Load the CSV file\n",
    "file_path = r'Year-to-date.csv'  # Replace with the correct path\n",
    "data = pd.read_csv(file_path)"
   ]
  },
  {
   "cell_type": "code",
   "execution_count": 13,
   "metadata": {},
   "outputs": [],
   "source": [
    "# Step 2: Initialize the map\n",
    "# Set the initial map view (centered on Africa with a zoom level to cover most regions)\n",
    "map_refugees = folium.Map(location=[10, 20], zoom_start=2)"
   ]
  },
  {
   "cell_type": "code",
   "execution_count": 12,
   "metadata": {},
   "outputs": [
    {
     "name": "stdout",
     "output_type": "stream",
     "text": [
      "Skipping invalid data for Country: Latitude=Latitude, Longitude=Longitude, Total Refugees Admitted=Total Refugees Admitted\n",
      "Skipping invalid data for Somalia: Latitude=5.0, Longitude=46.0, Total Refugees Admitted=3,940\n",
      "Skipping invalid data for Republic of South Sudan: Latitude=6.9, Longitude=30.0, Total Refugees Admitted=1,138\n",
      "Skipping invalid data for Sudan: Latitude=15.5, Longitude=30.5, Total Refugees Admitted=1,904\n",
      "Skipping invalid data for Dem. Rep. Congo: Latitude=-4.0, Longitude=15.0, Total Refugees Admitted=17,627\n",
      "Skipping invalid data for Eritrea: Latitude=15.0, Longitude=39.0, Total Refugees Admitted=1,908\n",
      "Skipping invalid data for Burma (Myanmar): Latitude=21.0, Longitude=96.0, Total Refugees Admitted=5,892\n",
      "Skipping invalid data for Ukraine: Latitude=48.0, Longitude=32.0, Total Refugees Admitted=1,347\n",
      "Skipping invalid data for Venezuela: Latitude=6.0, Longitude=-66.0, Total Refugees Admitted=9,225\n",
      "Skipping invalid data for El Salvador: Latitude=13.5, Longitude=-88.9, Total Refugees Admitted=1,178\n",
      "Skipping invalid data for Guatemala: Latitude=15.5, Longitude=-90.0, Total Refugees Admitted=4,320\n",
      "Skipping invalid data for Colombia: Latitude=4.0, Longitude=-74.0, Total Refugees Admitted=1,243\n",
      "Skipping invalid data for Nicaragua: Latitude=13.0, Longitude=-85.0, Total Refugees Admitted=2,776\n",
      "Skipping invalid data for Syria: Latitude=34.8, Longitude=38.9, Total Refugees Admitted=9,689\n",
      "Skipping invalid data for Afghanistan: Latitude=33.0, Longitude=65.0, Total Refugees Admitted=12,634\n",
      "Skipping invalid data for Iraq: Latitude=33.1, Longitude=44.4, Total Refugees Admitted=1,899\n",
      "Map saved to C:interactive_map.html\n"
     ]
    }
   ],
   "source": [
    "# Step 3: Iterate through the data and create markers for each country\n",
    "for index, row in data.iterrows():\n",
    "    country = row['Country']  # Ensure the column name is exactly as in the CSV\n",
    "    Latitude = row['Latitude']\n",
    "    Longitude = row['Longitude']\n",
    "    Total_Refugees_Admitted = row['Total Refugees Admitted']\n",
    "    \n",
    "    # Check if lat/lon and admitted are valid\n",
    "    if pd.notnull(Latitude) and pd.notnull(Longitude) and pd.notnull(Total_Refugees_Admitted):\n",
    "        try:\n",
    "            Latitude = float(Latitude) \n",
    "            Longitude = float(Longitude)\n",
    "            Total_Refgees_Admitted = int(Total_Refugees_Admitted)  # Ensure admitted is an integer\n",
    "            \n",
    "            # Add a marker for each country with a popup displaying the refugee numbers\n",
    "            folium.Marker(\n",
    "                location=[Latitude, Longitude],\n",
    "                popup=f\"<b>{country}</b><br>Total Admitted: {Total_Refugees_Admitted}\",\n",
    "            ).add_to(map_refugees)\n",
    "        except ValueError:\n",
    "            # Log any invalid data\n",
    "            print(f\"Skipping invalid data for {country}: Latitude={Latitude}, Longitude={Longitude}, Total Refugees Admitted={Total_Refugees_Admitted}\")\n",
    "    else:\n",
    "        # Log missing data\n",
    "        print(f\"Missing data for {country}: Latitude={Latitude}, Longitude={Longitude}, Total Refugees Admitted={Total_Refugees_Admitted}\")\n",
    "\n",
    "# Step 4: Save the map to an HTML file and display it\n",
    "output_path = r'C:interactive_map.html'\n",
    "map_refugees.save(output_path)\n",
    "print(f\"Map saved to {output_path}\")"
   ]
  }
 ],
 "metadata": {
  "kernelspec": {
   "display_name": "base",
   "language": "python",
   "name": "python3"
  },
  "language_info": {
   "codemirror_mode": {
    "name": "ipython",
    "version": 3
   },
   "file_extension": ".py",
   "mimetype": "text/x-python",
   "name": "python",
   "nbconvert_exporter": "python",
   "pygments_lexer": "ipython3",
   "version": "3.11.7"
  }
 },
 "nbformat": 4,
 "nbformat_minor": 2
}
